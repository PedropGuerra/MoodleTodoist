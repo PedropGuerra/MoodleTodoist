{
 "cells": [
  {
   "cell_type": "code",
   "execution_count": 1,
   "metadata": {},
   "outputs": [],
   "source": [
    "from selenium import webdriver\n",
    "from selenium.webdriver.common.by import By\n",
    "from selenium.webdriver.common.keys import Keys\n",
    "from time import sleep\n",
    "\n",
    "\n",
    "\n",
    "navegador = webdriver.Firefox()\n"
   ]
  },
  {
   "cell_type": "code",
   "execution_count": 2,
   "metadata": {},
   "outputs": [],
   "source": [
    "navegador.get(\"https://www.moodle.fsa.br/login/index.php\")"
   ]
  },
  {
   "cell_type": "code",
   "execution_count": 3,
   "metadata": {},
   "outputs": [],
   "source": [
    "username = '751806'\n",
    "password = '45038361889'\n",
    "\n",
    "username_field = navegador.find_element(By.XPATH, '//*[@id=\"username\"]')\n",
    "username_field.send_keys(username)\n",
    "\n",
    "password_field = navegador.find_element(By.XPATH, '//*[@id=\"password\"]')\n",
    "password_field.send_keys(password)\n",
    "password_field.send_keys(Keys.ENTER)"
   ]
  },
  {
   "cell_type": "code",
   "execution_count": 5,
   "metadata": {},
   "outputs": [],
   "source": [
    "links = navegador.find_elements(By.TAG_NAME,'a')"
   ]
  },
  {
   "cell_type": "code",
   "execution_count": 12,
   "metadata": {},
   "outputs": [
    {
     "data": {
      "text/plain": [
       "{'https://www.moodle.fsa.br/course/view.php?id=5',\n",
       " 'https://www.moodle.fsa.br/course/view.php?id=509',\n",
       " 'https://www.moodle.fsa.br/course/view.php?id=510',\n",
       " 'https://www.moodle.fsa.br/course/view.php?id=545',\n",
       " 'https://www.moodle.fsa.br/course/view.php?id=621',\n",
       " 'https://www.moodle.fsa.br/course/view.php?id=71',\n",
       " 'https://www.moodle.fsa.br/course/view.php?id=72',\n",
       " 'https://www.moodle.fsa.br/course/view.php?id=73',\n",
       " 'https://www.moodle.fsa.br/course/view.php?id=74',\n",
       " 'https://www.moodle.fsa.br/course/view.php?id=75',\n",
       " 'https://www.moodle.fsa.br/course/view.php?id=76',\n",
       " 'https://www.moodle.fsa.br/course/view.php?id=77',\n",
       " 'https://www.moodle.fsa.br/course/view.php?id=78'}"
      ]
     },
     "execution_count": 12,
     "metadata": {},
     "output_type": "execute_result"
    }
   ],
   "source": [
    "cursos = []\n",
    "cursos_baselink = \"https://www.moodle.fsa.br/course/view.php?id=\"\n",
    "\n",
    "for link in links:\n",
    "    #print(link.get_attribute('href'))\n",
    "    href = link.get_attribute('href')\n",
    "    \n",
    "    if None == href:\n",
    "        continue\n",
    "    \n",
    "    elif cursos_baselink in href:\n",
    "        cursos.append(href)\n",
    "\n",
    "set(cursos)"
   ]
  },
  {
   "cell_type": "code",
   "execution_count": 27,
   "metadata": {},
   "outputs": [
    {
     "name": "stdout",
     "output_type": "stream",
     "text": [
      "134TAD_3D/N Ação Curricular de Extensão I/Projeto Aplicado\n",
      "{'134TAD_3D/N Ação Curricular de Extensão I/Projeto Aplicado': set()}\n",
      "134TAD_3D/N Análise de Sistemas\n",
      "{'134TAD_3D/N Ação Curricular de Extensão I/Projeto Aplicado': set(), '134TAD_3D/N Análise de Sistemas': set()}\n",
      "134TAD_3D/N Engenharia de Software\n",
      "{'134TAD_3D/N Ação Curricular de Extensão I/Projeto Aplicado': set(), '134TAD_3D/N Análise de Sistemas': set(), '134TAD_3D/N Engenharia de Software': set()}\n",
      "134TAD_3D/N Estrutura de Dados\n",
      "{'134TAD_3D/N Ação Curricular de Extensão I/Projeto Aplicado': set(), '134TAD_3D/N Análise de Sistemas': set(), '134TAD_3D/N Engenharia de Software': set(), '134TAD_3D/N Estrutura de Dados': set()}\n",
      "134TAD_3D/N Inteligência Artificial\n"
     ]
    },
    {
     "ename": "StaleElementReferenceException",
     "evalue": "Message: The element with the reference fb8d1971-a510-4cc7-8a5f-53007c3bb5d1 is stale; either its node document is not the active document, or it is no longer connected to the DOM\nStacktrace:\nRemoteError@chrome://remote/content/shared/RemoteError.sys.mjs:8:8\nWebDriverError@chrome://remote/content/shared/webdriver/Errors.sys.mjs:182:5\nStaleElementReferenceError@chrome://remote/content/shared/webdriver/Errors.sys.mjs:484:5\nelement.getKnownElement@chrome://remote/content/marionette/element.sys.mjs:488:11\ndeserializeJSON@chrome://remote/content/marionette/json.sys.mjs:233:33\ncloneObject/result<@chrome://remote/content/marionette/json.sys.mjs:50:52\ncloneObject@chrome://remote/content/marionette/json.sys.mjs:50:25\ndeserializeJSON@chrome://remote/content/marionette/json.sys.mjs:244:16\ncloneObject@chrome://remote/content/marionette/json.sys.mjs:56:24\ndeserializeJSON@chrome://remote/content/marionette/json.sys.mjs:244:16\njson.deserialize@chrome://remote/content/marionette/json.sys.mjs:248:10\nreceiveMessage@chrome://remote/content/marionette/actors/MarionetteCommandsChild.sys.mjs:85:30\n",
     "output_type": "error",
     "traceback": [
      "\u001b[1;31m---------------------------------------------------------------------------\u001b[0m",
      "\u001b[1;31mStaleElementReferenceException\u001b[0m            Traceback (most recent call last)",
      "Cell \u001b[1;32mIn[27], line 21\u001b[0m\n\u001b[0;32m     19\u001b[0m \u001b[39mtry\u001b[39;00m:\n\u001b[1;32m---> 21\u001b[0m     href \u001b[39m=\u001b[39m link\u001b[39m.\u001b[39;49mget_attribute(\u001b[39m'\u001b[39;49m\u001b[39mhref\u001b[39;49m\u001b[39m'\u001b[39;49m)\n\u001b[0;32m     23\u001b[0m     \u001b[39mif\u001b[39;00m tarefas_baselink \u001b[39m==\u001b[39m href:\n",
      "File \u001b[1;32md:\\Documents\\Repositorios Github\\Moodle to Todoist\\env\\lib\\site-packages\\selenium\\webdriver\\remote\\webelement.py:178\u001b[0m, in \u001b[0;36mWebElement.get_attribute\u001b[1;34m(self, name)\u001b[0m\n\u001b[0;32m    177\u001b[0m     _load_js()\n\u001b[1;32m--> 178\u001b[0m attribute_value \u001b[39m=\u001b[39m \u001b[39mself\u001b[39;49m\u001b[39m.\u001b[39;49mparent\u001b[39m.\u001b[39;49mexecute_script(\n\u001b[0;32m    179\u001b[0m     \u001b[39mf\u001b[39;49m\u001b[39m\"\u001b[39;49m\u001b[39m/* getAttribute */return (\u001b[39;49m\u001b[39m{\u001b[39;49;00mgetAttribute_js\u001b[39m}\u001b[39;49;00m\u001b[39m).apply(null, arguments);\u001b[39;49m\u001b[39m\"\u001b[39;49m, \u001b[39mself\u001b[39;49m, name\n\u001b[0;32m    180\u001b[0m )\n\u001b[0;32m    181\u001b[0m \u001b[39mreturn\u001b[39;00m attribute_value\n",
      "File \u001b[1;32md:\\Documents\\Repositorios Github\\Moodle to Todoist\\env\\lib\\site-packages\\selenium\\webdriver\\remote\\webdriver.py:500\u001b[0m, in \u001b[0;36mWebDriver.execute_script\u001b[1;34m(self, script, *args)\u001b[0m\n\u001b[0;32m    498\u001b[0m command \u001b[39m=\u001b[39m Command\u001b[39m.\u001b[39mW3C_EXECUTE_SCRIPT\n\u001b[1;32m--> 500\u001b[0m \u001b[39mreturn\u001b[39;00m \u001b[39mself\u001b[39;49m\u001b[39m.\u001b[39;49mexecute(command, {\u001b[39m\"\u001b[39;49m\u001b[39mscript\u001b[39;49m\u001b[39m\"\u001b[39;49m: script, \u001b[39m\"\u001b[39;49m\u001b[39margs\u001b[39;49m\u001b[39m\"\u001b[39;49m: converted_args})[\u001b[39m\"\u001b[39m\u001b[39mvalue\u001b[39m\u001b[39m\"\u001b[39m]\n",
      "File \u001b[1;32md:\\Documents\\Repositorios Github\\Moodle to Todoist\\env\\lib\\site-packages\\selenium\\webdriver\\remote\\webdriver.py:440\u001b[0m, in \u001b[0;36mWebDriver.execute\u001b[1;34m(self, driver_command, params)\u001b[0m\n\u001b[0;32m    439\u001b[0m \u001b[39mif\u001b[39;00m response:\n\u001b[1;32m--> 440\u001b[0m     \u001b[39mself\u001b[39;49m\u001b[39m.\u001b[39;49merror_handler\u001b[39m.\u001b[39;49mcheck_response(response)\n\u001b[0;32m    441\u001b[0m     response[\u001b[39m\"\u001b[39m\u001b[39mvalue\u001b[39m\u001b[39m\"\u001b[39m] \u001b[39m=\u001b[39m \u001b[39mself\u001b[39m\u001b[39m.\u001b[39m_unwrap_value(response\u001b[39m.\u001b[39mget(\u001b[39m\"\u001b[39m\u001b[39mvalue\u001b[39m\u001b[39m\"\u001b[39m, \u001b[39mNone\u001b[39;00m))\n",
      "File \u001b[1;32md:\\Documents\\Repositorios Github\\Moodle to Todoist\\env\\lib\\site-packages\\selenium\\webdriver\\remote\\errorhandler.py:245\u001b[0m, in \u001b[0;36mErrorHandler.check_response\u001b[1;34m(self, response)\u001b[0m\n\u001b[0;32m    244\u001b[0m     \u001b[39mraise\u001b[39;00m exception_class(message, screen, stacktrace, alert_text)  \u001b[39m# type: ignore[call-arg]  # mypy is not smart enough here\u001b[39;00m\n\u001b[1;32m--> 245\u001b[0m \u001b[39mraise\u001b[39;00m exception_class(message, screen, stacktrace)\n",
      "\u001b[1;31mStaleElementReferenceException\u001b[0m: Message: The element with the reference fb8d1971-a510-4cc7-8a5f-53007c3bb5d1 is stale; either its node document is not the active document, or it is no longer connected to the DOM\nStacktrace:\nRemoteError@chrome://remote/content/shared/RemoteError.sys.mjs:8:8\nWebDriverError@chrome://remote/content/shared/webdriver/Errors.sys.mjs:182:5\nStaleElementReferenceError@chrome://remote/content/shared/webdriver/Errors.sys.mjs:484:5\nelement.getKnownElement@chrome://remote/content/marionette/element.sys.mjs:488:11\ndeserializeJSON@chrome://remote/content/marionette/json.sys.mjs:233:33\ncloneObject/result<@chrome://remote/content/marionette/json.sys.mjs:50:52\ncloneObject@chrome://remote/content/marionette/json.sys.mjs:50:25\ndeserializeJSON@chrome://remote/content/marionette/json.sys.mjs:244:16\ncloneObject@chrome://remote/content/marionette/json.sys.mjs:56:24\ndeserializeJSON@chrome://remote/content/marionette/json.sys.mjs:244:16\njson.deserialize@chrome://remote/content/marionette/json.sys.mjs:248:10\nreceiveMessage@chrome://remote/content/marionette/actors/MarionetteCommandsChild.sys.mjs:85:30\n",
      "\nDuring handling of the above exception, another exception occurred:\n",
      "\u001b[1;31mStaleElementReferenceException\u001b[0m            Traceback (most recent call last)",
      "Cell \u001b[1;32mIn[27], line 32\u001b[0m\n\u001b[0;32m     28\u001b[0m \u001b[39mexcept\u001b[39;00m:\n\u001b[0;32m     30\u001b[0m     sleep(\u001b[39m3\u001b[39m)\n\u001b[1;32m---> 32\u001b[0m     href \u001b[39m=\u001b[39m link\u001b[39m.\u001b[39;49mget_attribute(\u001b[39m'\u001b[39;49m\u001b[39mhref\u001b[39;49m\u001b[39m'\u001b[39;49m)\n\u001b[0;32m     34\u001b[0m     \u001b[39mif\u001b[39;00m tarefas_baselink \u001b[39m==\u001b[39m href:\n\u001b[0;32m     35\u001b[0m         tarefas[h1_pag_curso]\u001b[39m.\u001b[39mappend(href)\n",
      "File \u001b[1;32md:\\Documents\\Repositorios Github\\Moodle to Todoist\\env\\lib\\site-packages\\selenium\\webdriver\\remote\\webelement.py:178\u001b[0m, in \u001b[0;36mWebElement.get_attribute\u001b[1;34m(self, name)\u001b[0m\n\u001b[0;32m    176\u001b[0m \u001b[39mif\u001b[39;00m getAttribute_js \u001b[39mis\u001b[39;00m \u001b[39mNone\u001b[39;00m:\n\u001b[0;32m    177\u001b[0m     _load_js()\n\u001b[1;32m--> 178\u001b[0m attribute_value \u001b[39m=\u001b[39m \u001b[39mself\u001b[39;49m\u001b[39m.\u001b[39;49mparent\u001b[39m.\u001b[39;49mexecute_script(\n\u001b[0;32m    179\u001b[0m     \u001b[39mf\u001b[39;49m\u001b[39m\"\u001b[39;49m\u001b[39m/* getAttribute */return (\u001b[39;49m\u001b[39m{\u001b[39;49;00mgetAttribute_js\u001b[39m}\u001b[39;49;00m\u001b[39m).apply(null, arguments);\u001b[39;49m\u001b[39m\"\u001b[39;49m, \u001b[39mself\u001b[39;49m, name\n\u001b[0;32m    180\u001b[0m )\n\u001b[0;32m    181\u001b[0m \u001b[39mreturn\u001b[39;00m attribute_value\n",
      "File \u001b[1;32md:\\Documents\\Repositorios Github\\Moodle to Todoist\\env\\lib\\site-packages\\selenium\\webdriver\\remote\\webdriver.py:500\u001b[0m, in \u001b[0;36mWebDriver.execute_script\u001b[1;34m(self, script, *args)\u001b[0m\n\u001b[0;32m    497\u001b[0m converted_args \u001b[39m=\u001b[39m \u001b[39mlist\u001b[39m(args)\n\u001b[0;32m    498\u001b[0m command \u001b[39m=\u001b[39m Command\u001b[39m.\u001b[39mW3C_EXECUTE_SCRIPT\n\u001b[1;32m--> 500\u001b[0m \u001b[39mreturn\u001b[39;00m \u001b[39mself\u001b[39;49m\u001b[39m.\u001b[39;49mexecute(command, {\u001b[39m\"\u001b[39;49m\u001b[39mscript\u001b[39;49m\u001b[39m\"\u001b[39;49m: script, \u001b[39m\"\u001b[39;49m\u001b[39margs\u001b[39;49m\u001b[39m\"\u001b[39;49m: converted_args})[\u001b[39m\"\u001b[39m\u001b[39mvalue\u001b[39m\u001b[39m\"\u001b[39m]\n",
      "File \u001b[1;32md:\\Documents\\Repositorios Github\\Moodle to Todoist\\env\\lib\\site-packages\\selenium\\webdriver\\remote\\webdriver.py:440\u001b[0m, in \u001b[0;36mWebDriver.execute\u001b[1;34m(self, driver_command, params)\u001b[0m\n\u001b[0;32m    438\u001b[0m response \u001b[39m=\u001b[39m \u001b[39mself\u001b[39m\u001b[39m.\u001b[39mcommand_executor\u001b[39m.\u001b[39mexecute(driver_command, params)\n\u001b[0;32m    439\u001b[0m \u001b[39mif\u001b[39;00m response:\n\u001b[1;32m--> 440\u001b[0m     \u001b[39mself\u001b[39;49m\u001b[39m.\u001b[39;49merror_handler\u001b[39m.\u001b[39;49mcheck_response(response)\n\u001b[0;32m    441\u001b[0m     response[\u001b[39m\"\u001b[39m\u001b[39mvalue\u001b[39m\u001b[39m\"\u001b[39m] \u001b[39m=\u001b[39m \u001b[39mself\u001b[39m\u001b[39m.\u001b[39m_unwrap_value(response\u001b[39m.\u001b[39mget(\u001b[39m\"\u001b[39m\u001b[39mvalue\u001b[39m\u001b[39m\"\u001b[39m, \u001b[39mNone\u001b[39;00m))\n\u001b[0;32m    442\u001b[0m     \u001b[39mreturn\u001b[39;00m response\n",
      "File \u001b[1;32md:\\Documents\\Repositorios Github\\Moodle to Todoist\\env\\lib\\site-packages\\selenium\\webdriver\\remote\\errorhandler.py:245\u001b[0m, in \u001b[0;36mErrorHandler.check_response\u001b[1;34m(self, response)\u001b[0m\n\u001b[0;32m    243\u001b[0m         alert_text \u001b[39m=\u001b[39m value[\u001b[39m\"\u001b[39m\u001b[39malert\u001b[39m\u001b[39m\"\u001b[39m]\u001b[39m.\u001b[39mget(\u001b[39m\"\u001b[39m\u001b[39mtext\u001b[39m\u001b[39m\"\u001b[39m)\n\u001b[0;32m    244\u001b[0m     \u001b[39mraise\u001b[39;00m exception_class(message, screen, stacktrace, alert_text)  \u001b[39m# type: ignore[call-arg]  # mypy is not smart enough here\u001b[39;00m\n\u001b[1;32m--> 245\u001b[0m \u001b[39mraise\u001b[39;00m exception_class(message, screen, stacktrace)\n",
      "\u001b[1;31mStaleElementReferenceException\u001b[0m: Message: The element with the reference fb8d1971-a510-4cc7-8a5f-53007c3bb5d1 is stale; either its node document is not the active document, or it is no longer connected to the DOM\nStacktrace:\nRemoteError@chrome://remote/content/shared/RemoteError.sys.mjs:8:8\nWebDriverError@chrome://remote/content/shared/webdriver/Errors.sys.mjs:182:5\nStaleElementReferenceError@chrome://remote/content/shared/webdriver/Errors.sys.mjs:484:5\nelement.getKnownElement@chrome://remote/content/marionette/element.sys.mjs:488:11\ndeserializeJSON@chrome://remote/content/marionette/json.sys.mjs:233:33\ncloneObject/result<@chrome://remote/content/marionette/json.sys.mjs:50:52\ncloneObject@chrome://remote/content/marionette/json.sys.mjs:50:25\ndeserializeJSON@chrome://remote/content/marionette/json.sys.mjs:244:16\ncloneObject@chrome://remote/content/marionette/json.sys.mjs:56:24\ndeserializeJSON@chrome://remote/content/marionette/json.sys.mjs:244:16\njson.deserialize@chrome://remote/content/marionette/json.sys.mjs:248:10\nreceiveMessage@chrome://remote/content/marionette/actors/MarionetteCommandsChild.sys.mjs:85:30\n"
     ]
    }
   ],
   "source": [
    "tarefas = dict()\n",
    "tarefas_baselink = \"https://www.moodle.fsa.br/mod/assign/view.php?id=\"\n",
    "\n",
    "from selenium.webdriver.support.ui import WebDriverWait\n",
    "\n",
    "for curso in cursos:\n",
    "    navegador.get(curso)\n",
    "    h1_pag_curso = navegador.find_element(By.TAG_NAME,'h1').text\n",
    "    print(h1_pag_curso)\n",
    "    \n",
    "    \n",
    "    tarefas[h1_pag_curso] = list()\n",
    "    \n",
    "    links_curso = navegador.find_elements(By.TAG_NAME,'a')\n",
    "\n",
    "    for link in links_curso:\n",
    "        ##ERRO: Quando uma página não tem nenhuma entrega ou muito poucas, ele dá um erro como se não estivesse carregado\n",
    "        \n",
    "        \n",
    "        try:\n",
    "            href = link.get_attribute('href')\n",
    "        \n",
    "        except:\n",
    "            from time import sleep\n",
    "            \n",
    "            sleep(3)\n",
    "            \n",
    "            href = link.get_attribute('href')\n",
    "        \n",
    "        if None == href:\n",
    "            continue\n",
    "        \n",
    "        elif tarefas_baselink in href:\n",
    "            tarefas[h1_pag_curso].append(href)\n",
    "    \n",
    "    tarefas[h1_pag_curso] = set(tarefas[h1_pag_curso])\n",
    "    \n",
    "    \n",
    "    print(tarefas)"
   ]
  },
  {
   "cell_type": "markdown",
   "metadata": {},
   "source": []
  }
 ],
 "metadata": {
  "kernelspec": {
   "display_name": "env",
   "language": "python",
   "name": "python3"
  },
  "language_info": {
   "codemirror_mode": {
    "name": "ipython",
    "version": 3
   },
   "file_extension": ".py",
   "mimetype": "text/x-python",
   "name": "python",
   "nbconvert_exporter": "python",
   "pygments_lexer": "ipython3",
   "version": "3.10.4"
  },
  "orig_nbformat": 4
 },
 "nbformat": 4,
 "nbformat_minor": 2
}
